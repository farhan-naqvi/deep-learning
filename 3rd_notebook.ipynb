{
  "nbformat": 4,
  "nbformat_minor": 0,
  "metadata": {
    "colab": {
      "name": "3rd_notebook.ipynb",
      "provenance": [],
      "collapsed_sections": [],
      "authorship_tag": "ABX9TyOhH94XMpLLmA52HM5zmzJa",
      "include_colab_link": true
    },
    "kernelspec": {
      "name": "python3",
      "display_name": "Python 3"
    },
    "language_info": {
      "name": "python"
    }
  },
  "cells": [
    {
      "cell_type": "markdown",
      "metadata": {
        "id": "view-in-github",
        "colab_type": "text"
      },
      "source": [
        "<a href=\"https://colab.research.google.com/github/farhan-naqvi/deep-learning/blob/main/3rd_notebook.ipynb\" target=\"_parent\"><img src=\"https://colab.research.google.com/assets/colab-badge.svg\" alt=\"Open In Colab\"/></a>"
      ]
    },
    {
      "cell_type": "code",
      "metadata": {
        "id": "O1BFFO_Ipx36"
      },
      "source": [
        "import pandas as pd\n",
        "import numpy as np"
      ],
      "execution_count": 1,
      "outputs": []
    },
    {
      "cell_type": "code",
      "metadata": {
        "id": "7e7IYj_rr8jj"
      },
      "source": [
        "df = pd.read_csv('mobile_price_ranger_train.csv')"
      ],
      "execution_count": 3,
      "outputs": []
    },
    {
      "cell_type": "code",
      "metadata": {
        "colab": {
          "base_uri": "https://localhost:8080/",
          "height": 215
        },
        "id": "tp0wNZSNr_of",
        "outputId": "7e47cc54-477c-4bca-cdc7-7c298e78031c"
      },
      "source": [
        "df.head()"
      ],
      "execution_count": 4,
      "outputs": [
        {
          "output_type": "execute_result",
          "data": {
            "text/html": [
              "<div>\n",
              "<style scoped>\n",
              "    .dataframe tbody tr th:only-of-type {\n",
              "        vertical-align: middle;\n",
              "    }\n",
              "\n",
              "    .dataframe tbody tr th {\n",
              "        vertical-align: top;\n",
              "    }\n",
              "\n",
              "    .dataframe thead th {\n",
              "        text-align: right;\n",
              "    }\n",
              "</style>\n",
              "<table border=\"1\" class=\"dataframe\">\n",
              "  <thead>\n",
              "    <tr style=\"text-align: right;\">\n",
              "      <th></th>\n",
              "      <th>battery_power</th>\n",
              "      <th>blue</th>\n",
              "      <th>clock_speed</th>\n",
              "      <th>dual_sim</th>\n",
              "      <th>fc</th>\n",
              "      <th>four_g</th>\n",
              "      <th>int_memory</th>\n",
              "      <th>m_dep</th>\n",
              "      <th>mobile_wt</th>\n",
              "      <th>n_cores</th>\n",
              "      <th>pc</th>\n",
              "      <th>px_height</th>\n",
              "      <th>px_width</th>\n",
              "      <th>ram</th>\n",
              "      <th>sc_h</th>\n",
              "      <th>sc_w</th>\n",
              "      <th>talk_time</th>\n",
              "      <th>three_g</th>\n",
              "      <th>touch_screen</th>\n",
              "      <th>wifi</th>\n",
              "      <th>price_range</th>\n",
              "    </tr>\n",
              "  </thead>\n",
              "  <tbody>\n",
              "    <tr>\n",
              "      <th>0</th>\n",
              "      <td>842</td>\n",
              "      <td>0</td>\n",
              "      <td>2.2</td>\n",
              "      <td>0</td>\n",
              "      <td>1</td>\n",
              "      <td>0</td>\n",
              "      <td>7</td>\n",
              "      <td>0.6</td>\n",
              "      <td>188</td>\n",
              "      <td>2</td>\n",
              "      <td>2</td>\n",
              "      <td>20</td>\n",
              "      <td>756</td>\n",
              "      <td>2549</td>\n",
              "      <td>9</td>\n",
              "      <td>7</td>\n",
              "      <td>19</td>\n",
              "      <td>0</td>\n",
              "      <td>0</td>\n",
              "      <td>1</td>\n",
              "      <td>1</td>\n",
              "    </tr>\n",
              "    <tr>\n",
              "      <th>1</th>\n",
              "      <td>1021</td>\n",
              "      <td>1</td>\n",
              "      <td>0.5</td>\n",
              "      <td>1</td>\n",
              "      <td>0</td>\n",
              "      <td>1</td>\n",
              "      <td>53</td>\n",
              "      <td>0.7</td>\n",
              "      <td>136</td>\n",
              "      <td>3</td>\n",
              "      <td>6</td>\n",
              "      <td>905</td>\n",
              "      <td>1988</td>\n",
              "      <td>2631</td>\n",
              "      <td>17</td>\n",
              "      <td>3</td>\n",
              "      <td>7</td>\n",
              "      <td>1</td>\n",
              "      <td>1</td>\n",
              "      <td>0</td>\n",
              "      <td>2</td>\n",
              "    </tr>\n",
              "    <tr>\n",
              "      <th>2</th>\n",
              "      <td>563</td>\n",
              "      <td>1</td>\n",
              "      <td>0.5</td>\n",
              "      <td>1</td>\n",
              "      <td>2</td>\n",
              "      <td>1</td>\n",
              "      <td>41</td>\n",
              "      <td>0.9</td>\n",
              "      <td>145</td>\n",
              "      <td>5</td>\n",
              "      <td>6</td>\n",
              "      <td>1263</td>\n",
              "      <td>1716</td>\n",
              "      <td>2603</td>\n",
              "      <td>11</td>\n",
              "      <td>2</td>\n",
              "      <td>9</td>\n",
              "      <td>1</td>\n",
              "      <td>1</td>\n",
              "      <td>0</td>\n",
              "      <td>2</td>\n",
              "    </tr>\n",
              "    <tr>\n",
              "      <th>3</th>\n",
              "      <td>615</td>\n",
              "      <td>1</td>\n",
              "      <td>2.5</td>\n",
              "      <td>0</td>\n",
              "      <td>0</td>\n",
              "      <td>0</td>\n",
              "      <td>10</td>\n",
              "      <td>0.8</td>\n",
              "      <td>131</td>\n",
              "      <td>6</td>\n",
              "      <td>9</td>\n",
              "      <td>1216</td>\n",
              "      <td>1786</td>\n",
              "      <td>2769</td>\n",
              "      <td>16</td>\n",
              "      <td>8</td>\n",
              "      <td>11</td>\n",
              "      <td>1</td>\n",
              "      <td>0</td>\n",
              "      <td>0</td>\n",
              "      <td>2</td>\n",
              "    </tr>\n",
              "    <tr>\n",
              "      <th>4</th>\n",
              "      <td>1821</td>\n",
              "      <td>1</td>\n",
              "      <td>1.2</td>\n",
              "      <td>0</td>\n",
              "      <td>13</td>\n",
              "      <td>1</td>\n",
              "      <td>44</td>\n",
              "      <td>0.6</td>\n",
              "      <td>141</td>\n",
              "      <td>2</td>\n",
              "      <td>14</td>\n",
              "      <td>1208</td>\n",
              "      <td>1212</td>\n",
              "      <td>1411</td>\n",
              "      <td>8</td>\n",
              "      <td>2</td>\n",
              "      <td>15</td>\n",
              "      <td>1</td>\n",
              "      <td>1</td>\n",
              "      <td>0</td>\n",
              "      <td>1</td>\n",
              "    </tr>\n",
              "  </tbody>\n",
              "</table>\n",
              "</div>"
            ],
            "text/plain": [
              "   battery_power  blue  clock_speed  ...  touch_screen  wifi  price_range\n",
              "0            842     0          2.2  ...             0     1            1\n",
              "1           1021     1          0.5  ...             1     0            2\n",
              "2            563     1          0.5  ...             1     0            2\n",
              "3            615     1          2.5  ...             0     0            2\n",
              "4           1821     1          1.2  ...             1     0            1\n",
              "\n",
              "[5 rows x 21 columns]"
            ]
          },
          "metadata": {
            "tags": []
          },
          "execution_count": 4
        }
      ]
    },
    {
      "cell_type": "code",
      "metadata": {
        "colab": {
          "base_uri": "https://localhost:8080/"
        },
        "id": "YAuh5O4msF4b",
        "outputId": "be9860b7-a716-489a-cc23-a92a7cd9d3b1"
      },
      "source": [
        "df.columns"
      ],
      "execution_count": 7,
      "outputs": [
        {
          "output_type": "execute_result",
          "data": {
            "text/plain": [
              "Index(['battery_power', 'blue', 'clock_speed', 'dual_sim', 'fc', 'four_g',\n",
              "       'int_memory', 'm_dep', 'mobile_wt', 'n_cores', 'pc', 'px_height',\n",
              "       'px_width', 'ram', 'sc_h', 'sc_w', 'talk_time', 'three_g',\n",
              "       'touch_screen', 'wifi', 'price_range'],\n",
              "      dtype='object')"
            ]
          },
          "metadata": {
            "tags": []
          },
          "execution_count": 7
        }
      ]
    },
    {
      "cell_type": "code",
      "metadata": {
        "id": "F-wrYWl6sQgD"
      },
      "source": [
        "X = df.iloc[:,:-1].values.reshape(-1,20)\n",
        "y = df.iloc[:,-1].values.reshape(-1,1)"
      ],
      "execution_count": 9,
      "outputs": []
    },
    {
      "cell_type": "code",
      "metadata": {
        "colab": {
          "base_uri": "https://localhost:8080/"
        },
        "id": "YHI78bcDvEEr",
        "outputId": "f6a38a77-0b48-4ee7-982a-40dce6571c2e"
      },
      "source": [
        "X"
      ],
      "execution_count": 14,
      "outputs": [
        {
          "output_type": "execute_result",
          "data": {
            "text/plain": [
              "array([[-0.90259726, -0.9900495 ,  0.83077942, ..., -1.78686097,\n",
              "        -1.00601811,  0.98609664],\n",
              "       [-0.49513857,  1.0100505 , -1.2530642 , ...,  0.55964063,\n",
              "         0.99401789, -1.01409939],\n",
              "       [-1.5376865 ,  1.0100505 , -1.2530642 , ...,  0.55964063,\n",
              "         0.99401789, -1.01409939],\n",
              "       ...,\n",
              "       [ 1.53077336, -0.9900495 , -0.76274805, ...,  0.55964063,\n",
              "         0.99401789, -1.01409939],\n",
              "       [ 0.62252745, -0.9900495 , -0.76274805, ...,  0.55964063,\n",
              "         0.99401789,  0.98609664],\n",
              "       [-1.65833069,  1.0100505 ,  0.58562134, ...,  0.55964063,\n",
              "         0.99401789,  0.98609664]])"
            ]
          },
          "metadata": {
            "tags": []
          },
          "execution_count": 14
        }
      ]
    },
    {
      "cell_type": "code",
      "metadata": {
        "id": "8EwN4pF7ssTA"
      },
      "source": [
        "from sklearn.preprocessing import StandardScaler\n",
        "\n",
        "sc = StandardScaler()\n",
        "X = sc.fit_transform(X)\n",
        "# y = sc.transform(y)"
      ],
      "execution_count": 13,
      "outputs": []
    },
    {
      "cell_type": "code",
      "metadata": {
        "id": "GOGBImTpuuY0"
      },
      "source": [
        "from sklearn.preprocessing import OneHotEncoder\n",
        "ohe = OneHotEncoder()\n",
        "y = ohe.fit_transform(y).toarray()"
      ],
      "execution_count": 15,
      "outputs": []
    },
    {
      "cell_type": "code",
      "metadata": {
        "id": "Ynnfyw8gvSMH"
      },
      "source": [
        "# using train_test_split to split the data\n",
        "from sklearn.model_selection import train_test_split\n",
        "X_train, X_test, y_train ,y_test = train_test_split(X, y, test_size=0.2,random_state = 0)"
      ],
      "execution_count": 16,
      "outputs": []
    },
    {
      "cell_type": "code",
      "metadata": {
        "id": "tyc53CkzvX95"
      },
      "source": [
        "import keras\n",
        "from keras.models import Sequential\n",
        "from keras.layers import Dense"
      ],
      "execution_count": 18,
      "outputs": []
    },
    {
      "cell_type": "code",
      "metadata": {
        "id": "-PtbQT3yvrva"
      },
      "source": [
        "model = Sequential() # created the model\n",
        "\n",
        "# adding layers\n",
        "model.add(Dense(16, activation='relu', input_dim = 20))\n",
        "model.add(Dense(12, activation='relu'))\n",
        "model.add(Dense(4, activation='softmax'))"
      ],
      "execution_count": 23,
      "outputs": []
    },
    {
      "cell_type": "code",
      "metadata": {
        "id": "BOhKXdZ4wVub"
      },
      "source": [
        "model.compile(loss='categorical_crossentropy', optimizer='adam', metrics=['accuracy'])"
      ],
      "execution_count": 24,
      "outputs": []
    },
    {
      "cell_type": "code",
      "metadata": {
        "colab": {
          "base_uri": "https://localhost:8080/"
        },
        "id": "2uYnCQFhwmRR",
        "outputId": "73948777-dde5-42f5-82f7-84003c61026e"
      },
      "source": [
        "history = model.fit(X_train, y_train, epochs=100, batch_size=10)"
      ],
      "execution_count": 25,
      "outputs": [
        {
          "output_type": "stream",
          "text": [
            "Epoch 1/100\n",
            "160/160 [==============================] - 1s 734us/step - loss: 1.4607 - accuracy: 0.2883\n",
            "Epoch 2/100\n",
            "160/160 [==============================] - 0s 792us/step - loss: 1.2384 - accuracy: 0.4298\n",
            "Epoch 3/100\n",
            "160/160 [==============================] - 0s 859us/step - loss: 0.9713 - accuracy: 0.5976\n",
            "Epoch 4/100\n",
            "160/160 [==============================] - 0s 796us/step - loss: 0.7234 - accuracy: 0.7124\n",
            "Epoch 5/100\n",
            "160/160 [==============================] - 0s 808us/step - loss: 0.5547 - accuracy: 0.8061\n",
            "Epoch 6/100\n",
            "160/160 [==============================] - 0s 920us/step - loss: 0.4368 - accuracy: 0.8620\n",
            "Epoch 7/100\n",
            "160/160 [==============================] - 0s 782us/step - loss: 0.3546 - accuracy: 0.8793\n",
            "Epoch 8/100\n",
            "160/160 [==============================] - 0s 860us/step - loss: 0.2980 - accuracy: 0.9004\n",
            "Epoch 9/100\n",
            "160/160 [==============================] - 0s 884us/step - loss: 0.2574 - accuracy: 0.9203\n",
            "Epoch 10/100\n",
            "160/160 [==============================] - 0s 786us/step - loss: 0.2278 - accuracy: 0.9320\n",
            "Epoch 11/100\n",
            "160/160 [==============================] - 0s 873us/step - loss: 0.1841 - accuracy: 0.9535\n",
            "Epoch 12/100\n",
            "160/160 [==============================] - 0s 876us/step - loss: 0.1703 - accuracy: 0.9516\n",
            "Epoch 13/100\n",
            "160/160 [==============================] - 0s 897us/step - loss: 0.1643 - accuracy: 0.9488\n",
            "Epoch 14/100\n",
            "160/160 [==============================] - 0s 773us/step - loss: 0.1619 - accuracy: 0.9435\n",
            "Epoch 15/100\n",
            "160/160 [==============================] - 0s 793us/step - loss: 0.1352 - accuracy: 0.9626\n",
            "Epoch 16/100\n",
            "160/160 [==============================] - 0s 750us/step - loss: 0.1301 - accuracy: 0.9584\n",
            "Epoch 17/100\n",
            "160/160 [==============================] - 0s 867us/step - loss: 0.1063 - accuracy: 0.9732\n",
            "Epoch 18/100\n",
            "160/160 [==============================] - 0s 825us/step - loss: 0.1104 - accuracy: 0.9661\n",
            "Epoch 19/100\n",
            "160/160 [==============================] - 0s 808us/step - loss: 0.0954 - accuracy: 0.9738\n",
            "Epoch 20/100\n",
            "160/160 [==============================] - 0s 947us/step - loss: 0.0977 - accuracy: 0.9752\n",
            "Epoch 21/100\n",
            "160/160 [==============================] - 0s 902us/step - loss: 0.0859 - accuracy: 0.9752\n",
            "Epoch 22/100\n",
            "160/160 [==============================] - 0s 820us/step - loss: 0.0896 - accuracy: 0.9743\n",
            "Epoch 23/100\n",
            "160/160 [==============================] - 0s 801us/step - loss: 0.0857 - accuracy: 0.9705\n",
            "Epoch 24/100\n",
            "160/160 [==============================] - 0s 774us/step - loss: 0.0791 - accuracy: 0.9763\n",
            "Epoch 25/100\n",
            "160/160 [==============================] - 0s 850us/step - loss: 0.0679 - accuracy: 0.9814\n",
            "Epoch 26/100\n",
            "160/160 [==============================] - 0s 761us/step - loss: 0.0654 - accuracy: 0.9855\n",
            "Epoch 27/100\n",
            "160/160 [==============================] - 0s 895us/step - loss: 0.0638 - accuracy: 0.9854\n",
            "Epoch 28/100\n",
            "160/160 [==============================] - 0s 820us/step - loss: 0.0606 - accuracy: 0.9881\n",
            "Epoch 29/100\n",
            "160/160 [==============================] - 0s 793us/step - loss: 0.0611 - accuracy: 0.9792\n",
            "Epoch 30/100\n",
            "160/160 [==============================] - 0s 868us/step - loss: 0.0571 - accuracy: 0.9867\n",
            "Epoch 31/100\n",
            "160/160 [==============================] - 0s 833us/step - loss: 0.0558 - accuracy: 0.9860\n",
            "Epoch 32/100\n",
            "160/160 [==============================] - 0s 795us/step - loss: 0.0544 - accuracy: 0.9872\n",
            "Epoch 33/100\n",
            "160/160 [==============================] - 0s 927us/step - loss: 0.0517 - accuracy: 0.9895\n",
            "Epoch 34/100\n",
            "160/160 [==============================] - 0s 896us/step - loss: 0.0389 - accuracy: 0.9933\n",
            "Epoch 35/100\n",
            "160/160 [==============================] - 0s 823us/step - loss: 0.0557 - accuracy: 0.9855\n",
            "Epoch 36/100\n",
            "160/160 [==============================] - 0s 803us/step - loss: 0.0383 - accuracy: 0.9920\n",
            "Epoch 37/100\n",
            "160/160 [==============================] - 0s 846us/step - loss: 0.0389 - accuracy: 0.9934\n",
            "Epoch 38/100\n",
            "160/160 [==============================] - 0s 823us/step - loss: 0.0432 - accuracy: 0.9945\n",
            "Epoch 39/100\n",
            "160/160 [==============================] - 0s 808us/step - loss: 0.0376 - accuracy: 0.9933\n",
            "Epoch 40/100\n",
            "160/160 [==============================] - 0s 783us/step - loss: 0.0369 - accuracy: 0.9912\n",
            "Epoch 41/100\n",
            "160/160 [==============================] - 0s 797us/step - loss: 0.0334 - accuracy: 0.9953\n",
            "Epoch 42/100\n",
            "160/160 [==============================] - 0s 786us/step - loss: 0.0331 - accuracy: 0.9981\n",
            "Epoch 43/100\n",
            "160/160 [==============================] - 0s 828us/step - loss: 0.0357 - accuracy: 0.9969\n",
            "Epoch 44/100\n",
            "160/160 [==============================] - 0s 933us/step - loss: 0.0308 - accuracy: 0.9964\n",
            "Epoch 45/100\n",
            "160/160 [==============================] - 0s 838us/step - loss: 0.0259 - accuracy: 0.9970\n",
            "Epoch 46/100\n",
            "160/160 [==============================] - 0s 808us/step - loss: 0.0288 - accuracy: 0.9970\n",
            "Epoch 47/100\n",
            "160/160 [==============================] - 0s 859us/step - loss: 0.0247 - accuracy: 0.9992\n",
            "Epoch 48/100\n",
            "160/160 [==============================] - 0s 815us/step - loss: 0.0278 - accuracy: 0.9966\n",
            "Epoch 49/100\n",
            "160/160 [==============================] - 0s 875us/step - loss: 0.0257 - accuracy: 0.9979\n",
            "Epoch 50/100\n",
            "160/160 [==============================] - 0s 900us/step - loss: 0.0215 - accuracy: 0.9989\n",
            "Epoch 51/100\n",
            "160/160 [==============================] - 0s 857us/step - loss: 0.0265 - accuracy: 0.9988\n",
            "Epoch 52/100\n",
            "160/160 [==============================] - 0s 789us/step - loss: 0.0272 - accuracy: 0.9984\n",
            "Epoch 53/100\n",
            "160/160 [==============================] - 0s 823us/step - loss: 0.0258 - accuracy: 0.9938\n",
            "Epoch 54/100\n",
            "160/160 [==============================] - 0s 786us/step - loss: 0.0204 - accuracy: 0.9994\n",
            "Epoch 55/100\n",
            "160/160 [==============================] - 0s 837us/step - loss: 0.0217 - accuracy: 0.9979\n",
            "Epoch 56/100\n",
            "160/160 [==============================] - 0s 834us/step - loss: 0.0198 - accuracy: 0.9989\n",
            "Epoch 57/100\n",
            "160/160 [==============================] - 0s 869us/step - loss: 0.0231 - accuracy: 0.9997\n",
            "Epoch 58/100\n",
            "160/160 [==============================] - 0s 807us/step - loss: 0.0152 - accuracy: 0.9996\n",
            "Epoch 59/100\n",
            "160/160 [==============================] - 0s 869us/step - loss: 0.0170 - accuracy: 0.9994\n",
            "Epoch 60/100\n",
            "160/160 [==============================] - 0s 782us/step - loss: 0.0194 - accuracy: 0.9964\n",
            "Epoch 61/100\n",
            "160/160 [==============================] - 0s 799us/step - loss: 0.0146 - accuracy: 0.9998\n",
            "Epoch 62/100\n",
            "160/160 [==============================] - 0s 846us/step - loss: 0.0131 - accuracy: 0.9998\n",
            "Epoch 63/100\n",
            "160/160 [==============================] - 0s 799us/step - loss: 0.0136 - accuracy: 0.9991\n",
            "Epoch 64/100\n",
            "160/160 [==============================] - 0s 798us/step - loss: 0.0142 - accuracy: 0.9995\n",
            "Epoch 65/100\n",
            "160/160 [==============================] - 0s 767us/step - loss: 0.0128 - accuracy: 0.9992\n",
            "Epoch 66/100\n",
            "160/160 [==============================] - 0s 829us/step - loss: 0.0112 - accuracy: 0.9997\n",
            "Epoch 67/100\n",
            "160/160 [==============================] - 0s 916us/step - loss: 0.0118 - accuracy: 0.9999\n",
            "Epoch 68/100\n",
            "160/160 [==============================] - 0s 815us/step - loss: 0.0127 - accuracy: 0.9999\n",
            "Epoch 69/100\n",
            "160/160 [==============================] - 0s 836us/step - loss: 0.0113 - accuracy: 0.9992\n",
            "Epoch 70/100\n",
            "160/160 [==============================] - 0s 823us/step - loss: 0.0094 - accuracy: 0.9991\n",
            "Epoch 71/100\n",
            "160/160 [==============================] - 0s 822us/step - loss: 0.0104 - accuracy: 1.0000\n",
            "Epoch 72/100\n",
            "160/160 [==============================] - 0s 787us/step - loss: 0.0092 - accuracy: 1.0000\n",
            "Epoch 73/100\n",
            "160/160 [==============================] - 0s 775us/step - loss: 0.0109 - accuracy: 0.9999\n",
            "Epoch 74/100\n",
            "160/160 [==============================] - 0s 802us/step - loss: 0.0075 - accuracy: 0.9997\n",
            "Epoch 75/100\n",
            "160/160 [==============================] - 0s 812us/step - loss: 0.0077 - accuracy: 1.0000\n",
            "Epoch 76/100\n",
            "160/160 [==============================] - 0s 782us/step - loss: 0.0073 - accuracy: 1.0000\n",
            "Epoch 77/100\n",
            "160/160 [==============================] - 0s 873us/step - loss: 0.0068 - accuracy: 1.0000\n",
            "Epoch 78/100\n",
            "160/160 [==============================] - 0s 779us/step - loss: 0.0072 - accuracy: 0.9990\n",
            "Epoch 79/100\n",
            "160/160 [==============================] - 0s 817us/step - loss: 0.0081 - accuracy: 0.9996\n",
            "Epoch 80/100\n",
            "160/160 [==============================] - 0s 840us/step - loss: 0.0072 - accuracy: 1.0000\n",
            "Epoch 81/100\n",
            "160/160 [==============================] - 0s 800us/step - loss: 0.0053 - accuracy: 1.0000\n",
            "Epoch 82/100\n",
            "160/160 [==============================] - 0s 893us/step - loss: 0.0061 - accuracy: 1.0000\n",
            "Epoch 83/100\n",
            "160/160 [==============================] - 0s 767us/step - loss: 0.0053 - accuracy: 1.0000\n",
            "Epoch 84/100\n",
            "160/160 [==============================] - 0s 744us/step - loss: 0.0057 - accuracy: 1.0000\n",
            "Epoch 85/100\n",
            "160/160 [==============================] - 0s 805us/step - loss: 0.0085 - accuracy: 0.9990\n",
            "Epoch 86/100\n",
            "160/160 [==============================] - 0s 815us/step - loss: 0.0073 - accuracy: 0.9999\n",
            "Epoch 87/100\n",
            "160/160 [==============================] - 0s 806us/step - loss: 0.0060 - accuracy: 1.0000\n",
            "Epoch 88/100\n",
            "160/160 [==============================] - 0s 776us/step - loss: 0.0053 - accuracy: 0.9990\n",
            "Epoch 89/100\n",
            "160/160 [==============================] - 0s 814us/step - loss: 0.0045 - accuracy: 1.0000\n",
            "Epoch 90/100\n",
            "160/160 [==============================] - 0s 798us/step - loss: 0.0038 - accuracy: 1.0000\n",
            "Epoch 91/100\n",
            "160/160 [==============================] - 0s 796us/step - loss: 0.0031 - accuracy: 1.0000\n",
            "Epoch 92/100\n",
            "160/160 [==============================] - 0s 829us/step - loss: 0.0035 - accuracy: 1.0000\n",
            "Epoch 93/100\n",
            "160/160 [==============================] - 0s 775us/step - loss: 0.0032 - accuracy: 1.0000\n",
            "Epoch 94/100\n",
            "160/160 [==============================] - 0s 794us/step - loss: 0.0033 - accuracy: 1.0000\n",
            "Epoch 95/100\n",
            "160/160 [==============================] - 0s 759us/step - loss: 0.0099 - accuracy: 0.9981\n",
            "Epoch 96/100\n",
            "160/160 [==============================] - 0s 773us/step - loss: 0.0069 - accuracy: 0.9998\n",
            "Epoch 97/100\n",
            "160/160 [==============================] - 0s 815us/step - loss: 0.0051 - accuracy: 1.0000\n",
            "Epoch 98/100\n",
            "160/160 [==============================] - 0s 836us/step - loss: 0.0027 - accuracy: 1.0000\n",
            "Epoch 99/100\n",
            "160/160 [==============================] - 0s 819us/step - loss: 0.0021 - accuracy: 1.0000\n",
            "Epoch 100/100\n",
            "160/160 [==============================] - 0s 934us/step - loss: 0.0022 - accuracy: 1.0000\n"
          ],
          "name": "stdout"
        }
      ]
    },
    {
      "cell_type": "code",
      "metadata": {
        "colab": {
          "base_uri": "https://localhost:8080/",
          "height": 477
        },
        "id": "fJv7tNFcw4l-",
        "outputId": "755ce81f-641c-4142-94ce-3ab58a9da84a"
      },
      "source": [
        "import matplotlib.pyplot as plt\n",
        "plt.plot(history.history['accuracy'])\n",
        "plt.plot(history.history['val_accuracy'])\n",
        "plt.title('Model accuracy')\n",
        "plt.ylabel('Accuracy')\n",
        "plt.xlabel('Epoch')\n",
        "plt.legend(['Train', 'Test'], loc='upper left')\n",
        "plt.show()"
      ],
      "execution_count": 34,
      "outputs": [
        {
          "output_type": "error",
          "ename": "KeyError",
          "evalue": "ignored",
          "traceback": [
            "\u001b[0;31m---------------------------------------------------------------------------\u001b[0m",
            "\u001b[0;31mKeyError\u001b[0m                                  Traceback (most recent call last)",
            "\u001b[0;32m<ipython-input-34-429e16348494>\u001b[0m in \u001b[0;36m<module>\u001b[0;34m()\u001b[0m\n\u001b[1;32m      1\u001b[0m \u001b[0;32mimport\u001b[0m \u001b[0mmatplotlib\u001b[0m\u001b[0;34m.\u001b[0m\u001b[0mpyplot\u001b[0m \u001b[0;32mas\u001b[0m \u001b[0mplt\u001b[0m\u001b[0;34m\u001b[0m\u001b[0;34m\u001b[0m\u001b[0m\n\u001b[1;32m      2\u001b[0m \u001b[0mplt\u001b[0m\u001b[0;34m.\u001b[0m\u001b[0mplot\u001b[0m\u001b[0;34m(\u001b[0m\u001b[0mhistory\u001b[0m\u001b[0;34m.\u001b[0m\u001b[0mhistory\u001b[0m\u001b[0;34m[\u001b[0m\u001b[0;34m'accuracy'\u001b[0m\u001b[0;34m]\u001b[0m\u001b[0;34m)\u001b[0m\u001b[0;34m\u001b[0m\u001b[0;34m\u001b[0m\u001b[0m\n\u001b[0;32m----> 3\u001b[0;31m \u001b[0mplt\u001b[0m\u001b[0;34m.\u001b[0m\u001b[0mplot\u001b[0m\u001b[0;34m(\u001b[0m\u001b[0mhistory\u001b[0m\u001b[0;34m.\u001b[0m\u001b[0mhistory\u001b[0m\u001b[0;34m[\u001b[0m\u001b[0;34m'val_accuracy'\u001b[0m\u001b[0;34m]\u001b[0m\u001b[0;34m)\u001b[0m\u001b[0;34m\u001b[0m\u001b[0;34m\u001b[0m\u001b[0m\n\u001b[0m\u001b[1;32m      4\u001b[0m \u001b[0mplt\u001b[0m\u001b[0;34m.\u001b[0m\u001b[0mtitle\u001b[0m\u001b[0;34m(\u001b[0m\u001b[0;34m'Model accuracy'\u001b[0m\u001b[0;34m)\u001b[0m\u001b[0;34m\u001b[0m\u001b[0;34m\u001b[0m\u001b[0m\n\u001b[1;32m      5\u001b[0m \u001b[0mplt\u001b[0m\u001b[0;34m.\u001b[0m\u001b[0mylabel\u001b[0m\u001b[0;34m(\u001b[0m\u001b[0;34m'Accuracy'\u001b[0m\u001b[0;34m)\u001b[0m\u001b[0;34m\u001b[0m\u001b[0;34m\u001b[0m\u001b[0m\n",
            "\u001b[0;31mKeyError\u001b[0m: 'val_accuracy'"
          ]
        },
        {
          "output_type": "display_data",
          "data": {
            "image/png": "[encoded data removed]",
            "text/plain": [
              "<Figure size 432x288 with 1 Axes>"
            ]
          },
          "metadata": {
            "tags": [],
            "needs_background": "light"
          }
        }
      ]
    },
    {
      "cell_type": "code",
      "metadata": {
        "id": "aUAGusXH105i"
      },
      "source": [
        ""
      ],
      "execution_count": null,
      "outputs": []
    }
  ]
}